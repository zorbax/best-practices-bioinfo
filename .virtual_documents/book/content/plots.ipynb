





import matplotlib.pyplot as plt
import numpy as np

x = np.linspace(0, 10, 1000)
plt.plot(x, np.sin(x))

plt.show()





import seaborn as sns
import matplotlib.pyplot as plt

tips = sns.load_dataset("tips")


tips


plt.figure(figsize=(10, 6))
sns.scatterplot(data=tips, x="total_bill", y="tip", hue="time", style="time", s=100)

plt.title("Total Bill vs. Tip Amount")
plt.xlabel("Total Bill ($)")
plt.ylabel("Tip ($)")








%pip install -q altair





import altair as alt
import pandas as pd

source = pd.DataFrame(
    {
        "a": ["A", "B", "C", "D", "E", "F", "G", "H", "I"],
        "b": [28, 55, 43, 91, 81, 53, 19, 87, 52],
    }
)

alt.Chart(source).mark_bar().encode(x="a", y="b")





import altair as alt
import numpy as np
import pandas as pd

# Compute x^2 + y^2 across a 2D grid
x, y = np.meshgrid(range(-5, 5), range(-5, 5))
z = x**2 + y**2

# Convert this grid to columnar data expected by Altair
source = pd.DataFrame({"x": x.ravel(), "y": y.ravel(), "z": z.ravel()})

alt.Chart(source).mark_rect().encode(x="x:O", y="y:O", color="z:Q")





%pip install -q vega-datasets





import altair as alt
from vega_datasets import data

source = data.seattle_weather()
brush = alt.selection_interval(encodings=["x"])

bars = (
    alt.Chart()
    .mark_bar()
    .encode(
        x="month(date):O",
        y="mean(precipitation):Q",
        opacity=alt.condition(brush, alt.OpacityValue(1), alt.OpacityValue(0.7)),
    )
    .add_params(brush)
)

line = (
    alt.Chart()
    .mark_rule(color="firebrick")
    .encode(y="mean(precipitation):Q", size=alt.SizeValue(3))
    .transform_filter(brush)
)

alt.layer(bars, line, data=source)





import altair as alt
from vega_datasets import data

airports = data.airports.url
states = alt.topo_feature(data.us_10m.url, feature="states")

# US states background
background = (
    alt.Chart(states)
    .mark_geoshape(fill="lightgray", stroke="white")
    .properties(width=500, height=300)
    .project("albersUsa")
)

# airport positions on background
points = (
    alt.Chart(airports)
    .transform_aggregate(
        latitude="mean(latitude)",
        longitude="mean(longitude)",
        count="count()",
        groupby=["state"],
    )
    .mark_circle()
    .encode(
        longitude="longitude:Q",
        latitude="latitude:Q",
        size=alt.Size("count:Q", title="Number of Airports"),
        color=alt.value("steelblue"),
        tooltip=["state:N", "count:Q"],
    )
    .properties(title="Number of airports in US")
)

background + points








import plotly.graph_objects as go

fig = go.Figure()
fig.add_trace(go.Scatter(y=[2, 1, 4, 3]))
fig.add_trace(go.Bar(y=[1, 4, 3, 2]))
fig.update_layout(title="Hello Figure")





import pandas as pd
import plotly.graph_objects as go

URL = "https://raw.githubusercontent.com/plotly/datasets/master/2014_usa_states.csv"

df = pd.read_csv(URL)

fig = go.Figure(
    data=[
        go.Table(
            header=dict(values=list(df.columns), fill_color="paleturquoise", align="left"),
            cells=dict(
                values=[df.Rank, df.State, df.Postal, df.Population],
                fill_color="lavender",
                align="left",
            ),
        )
    ]
)


fig





import numpy as np
import plotly.figure_factory as ff
import plotly.graph_objects as go

x, y = np.meshgrid(np.arange(-2, 2, 0.2), np.arange(-2, 2, 0.25))
z = x * np.exp(-(x**2) - y**2)
v, u = np.gradient(z, 0.2, 0.2)

fig = ff.create_quiver(x, y, u, v, scale=0.25, arrow_scale=0.4, name="quiver", line_width=1)

fig.add_trace(go.Scatter(x=[-0.7, 0.75], y=[0, 0], mode="markers", marker_size=12, name="points"))

fig.show()


import plotly.io as pio
import plotly.express as px
import plotly.offline as py

df = px.data.iris()
fig = px.scatter(df, x="sepal_width", y="sepal_length", color="species", size="sepal_length")
fig
