





from IPython.display import HTML, JSON, Latex, Markdown





print(">>>>>>>> Before display")


video_url = "https://www.youtube.com/embed/dQw4w9WgXcQ"
s = f"""
<div style="display: flex; justify-content: center;">
<iframe width="560" height="315" src="{video_url}" frameborder="0";"></iframe>
</div>
"""

display(HTML(s))

print("######## After display")





Markdown(
    """
# Title

**in bold**

~~Strikthrough~~
"""
)





Latex(
    r"""\begin{eqnarray}
\nabla \times \vec{\mathbf{B}} -\, \frac1c\, \frac{\partial\vec{\mathbf{E}}}{\partial t} & = \frac{4\pi}{c}\vec{\mathbf{j}} \\
\nabla \cdot \vec{\mathbf{E}} & = 4 \pi \rho \\
\nabla \times \vec{\mathbf{E}}\, +\, \frac1c\, \frac{\partial\vec{\mathbf{B}}}{\partial t} & = \vec{\mathbf{0}} \\
\nabla \cdot \vec{\mathbf{B}} & = 0
\end{eqnarray}"""
)
