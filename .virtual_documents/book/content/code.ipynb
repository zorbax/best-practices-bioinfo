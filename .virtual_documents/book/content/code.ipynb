





from string import ascii_uppercase as letters

import numpy as np
import pandas as pd

df = pd.DataFrame(np.random.randint(0, 100, size=(100, len(letters))), columns=list(letters))





df





import sys


import aiohttp
import asyncio

async def fetch_data(url):
    async with aiohttp.ClientSession() as session:
        async with session.get(url) as response:
            return await response.text()

# Use await directly in a Jupyter Notebook cell
url = "https://httpbin.org/get"
data = await fetch_data(url)



print(data)





from sympy import Integral, init_printing, sqrt, symbols

init_printing()

x = symbols("x")

Integral(sqrt(1 / x), x)








con = sqlite3.connect("python/data/northwind.sqlite3")
cur = con.cursor()
display(*cur.execute("SELECT LastName, FirstName FROM Employees").fetchall())





import base64
import IPython
import pandas


df = pandas.read_sql_query("SELECT * from Employees", con, "EmployeeID")

df["Photo"] = df["Photo"].apply(
    lambda raw: f"""<img src="data:image/png;base64,{base64.b64encode(raw).decode("utf-8")}"/>"""
)


IPython.display.HTML(df.T.to_html(escape=False))





import folium





m = folium.Map(location=[57.688236, 11.978573], zoom_start=15)


m
